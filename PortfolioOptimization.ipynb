{
  "nbformat": 4,
  "nbformat_minor": 0,
  "metadata": {
    "colab": {
      "name": "PortfolioOptimization.ipynb",
      "provenance": [],
      "collapsed_sections": [],
      "authorship_tag": "ABX9TyPbuvsUlOCIM0ZBAz84Y/Ze",
      "include_colab_link": true
    },
    "kernelspec": {
      "name": "python3",
      "display_name": "Python 3"
    }
  },
  "cells": [
    {
      "cell_type": "markdown",
      "metadata": {
        "id": "view-in-github",
        "colab_type": "text"
      },
      "source": [
        "<a href=\"https://colab.research.google.com/github/usamabaig1/Portfolio_Optimization/blob/main/PortfolioOptimization.ipynb\" target=\"_parent\"><img src=\"https://colab.research.google.com/assets/colab-badge.svg\" alt=\"Open In Colab\"/></a>"
      ]
    },
    {
      "cell_type": "code",
      "metadata": {
        "id": "xpF0c_LuxbWf"
      },
      "source": [
        "import numpy as np\n",
        "import matplotlib.pyplot as plt\n",
        "import cvxopt as opt\n",
        "from cvxopt import blas, solvers\n",
        "import pandas as pd\n",
        "\n",
        "np.random.seed(123)\n",
        "\n",
        "# Turn off progress printing \n",
        "solvers.options['show_progress'] = False"
      ],
      "execution_count": 1,
      "outputs": []
    },
    {
      "cell_type": "code",
      "metadata": {
        "colab": {
          "base_uri": "https://localhost:8080/"
        },
        "id": "1IIzJJFOKYbx",
        "outputId": "76709642-0ae8-4206-bc5d-aa644b4060ff"
      },
      "source": [
        "!pip install pyportfolioopt\n",
        "import pypfopt \n",
        "from pypfopt.efficient_frontier import EfficientFrontier\n",
        "from pypfopt import risk_models\n",
        "from pypfopt import expected_returns"
      ],
      "execution_count": 4,
      "outputs": [
        {
          "output_type": "stream",
          "text": [
            "Collecting pyportfolioopt\n",
            "\u001b[?25l  Downloading https://files.pythonhosted.org/packages/f9/19/1f903f95e2acb95dc4b4275278a7b9f0b2cdae387d815d6219ffb46d6576/PyPortfolioOpt-1.2.7-py3-none-any.whl (48kB)\n",
            "\r\u001b[K     |██████▊                         | 10kB 15.2MB/s eta 0:00:01\r\u001b[K     |█████████████▍                  | 20kB 17.1MB/s eta 0:00:01\r\u001b[K     |████████████████████▏           | 30kB 12.4MB/s eta 0:00:01\r\u001b[K     |██████████████████████████▉     | 40kB 9.8MB/s eta 0:00:01\r\u001b[K     |████████████████████████████████| 51kB 2.8MB/s \n",
            "\u001b[?25hRequirement already satisfied: numpy<2.0,>=1.12 in /usr/local/lib/python3.6/dist-packages (from pyportfolioopt) (1.18.5)\n",
            "Requirement already satisfied: pandas>=0.19 in /usr/local/lib/python3.6/dist-packages (from pyportfolioopt) (1.1.4)\n",
            "Requirement already satisfied: cvxpy<2.0,>=1.0 in /usr/local/lib/python3.6/dist-packages (from pyportfolioopt) (1.0.31)\n",
            "Requirement already satisfied: scipy<2.0,>=1.3 in /usr/local/lib/python3.6/dist-packages (from pyportfolioopt) (1.4.1)\n",
            "Requirement already satisfied: cvxopt<2.0,>=1.2 in /usr/local/lib/python3.6/dist-packages (from pyportfolioopt) (1.2.5)\n",
            "Requirement already satisfied: python-dateutil>=2.7.3 in /usr/local/lib/python3.6/dist-packages (from pandas>=0.19->pyportfolioopt) (2.8.1)\n",
            "Requirement already satisfied: pytz>=2017.2 in /usr/local/lib/python3.6/dist-packages (from pandas>=0.19->pyportfolioopt) (2018.9)\n",
            "Requirement already satisfied: ecos>=2 in /usr/local/lib/python3.6/dist-packages (from cvxpy<2.0,>=1.0->pyportfolioopt) (2.0.7.post1)\n",
            "Requirement already satisfied: multiprocess in /usr/local/lib/python3.6/dist-packages (from cvxpy<2.0,>=1.0->pyportfolioopt) (0.70.11.1)\n",
            "Requirement already satisfied: osqp>=0.4.1 in /usr/local/lib/python3.6/dist-packages (from cvxpy<2.0,>=1.0->pyportfolioopt) (0.6.1)\n",
            "Requirement already satisfied: scs>=1.1.3 in /usr/local/lib/python3.6/dist-packages (from cvxpy<2.0,>=1.0->pyportfolioopt) (2.1.2)\n",
            "Requirement already satisfied: six>=1.5 in /usr/local/lib/python3.6/dist-packages (from python-dateutil>=2.7.3->pandas>=0.19->pyportfolioopt) (1.15.0)\n",
            "Requirement already satisfied: dill>=0.3.3 in /usr/local/lib/python3.6/dist-packages (from multiprocess->cvxpy<2.0,>=1.0->pyportfolioopt) (0.3.3)\n",
            "Requirement already satisfied: future in /usr/local/lib/python3.6/dist-packages (from osqp>=0.4.1->cvxpy<2.0,>=1.0->pyportfolioopt) (0.16.0)\n",
            "Installing collected packages: pyportfolioopt\n",
            "Successfully installed pyportfolioopt-1.2.7\n"
          ],
          "name": "stdout"
        }
      ]
    },
    {
      "cell_type": "code",
      "metadata": {
        "colab": {
          "base_uri": "https://localhost:8080/"
        },
        "id": "o1oqpsqS0_Yw",
        "outputId": "d74683fa-57b4-489b-f90d-0eaffa233b01"
      },
      "source": [
        "data  = pd.read_excel('Data.xlsx', sheet_name= 'Portfolios')\n",
        "covMat  = pd.read_excel('Data.xlsx', sheet_name= 'Covariance Matrix', index_col=0)\n",
        "portfolios = 10\n",
        "command = 'all'\n",
        "# maxMean, minVolatility, maxSharpRatio, all\n",
        "\n",
        "# print(df.head())\n",
        "print(data.shape)\n",
        "\n",
        "# print(covM.head())\n",
        "print(covM.shape)"
      ],
      "execution_count": 62,
      "outputs": [
        {
          "output_type": "stream",
          "text": [
            "(199, 3)\n",
            "(199, 199)\n"
          ],
          "name": "stdout"
        }
      ]
    },
    {
      "cell_type": "code",
      "metadata": {
        "id": "pkVcJBdReXJW"
      },
      "source": [
        "def maxMean(dfView, X):\n",
        "  df = dfView.copy()\n",
        "  df.sort_values(by='Mean', inplace=True, ascending=False)\n",
        "  df.reset_index(inplace=True, drop=True)\n",
        "  df['Weight'] = 0\n",
        "  ports = []\n",
        "  for x in range(len(df)):\n",
        "    if x < X:\n",
        "      df.loc[x,'Weight'] = 1\n",
        "      ports += [df.loc[x,'Port']]\n",
        "    else:\n",
        "      break\n",
        "  print(\"maxMean portfolios:\", sorted(ports))     \n",
        "  df.sort_values(by='Port', inplace=True, ascending=True)\n",
        "  df.reset_index(inplace=True, drop=True)\n",
        "  # df.to_csv(\"maxMean.csv\")\n",
        "  return df\n"
      ],
      "execution_count": 63,
      "outputs": []
    },
    {
      "cell_type": "code",
      "metadata": {
        "id": "sUEFUebQX7On"
      },
      "source": [
        "def minVolatility(dfView, covM, X):\n",
        "  df = dfView.copy()\n",
        "  ef = EfficientFrontier(df.Mean, covM)\n",
        "  weights = ef.min_volatility()\n",
        "  cleaned_weights = ef.clean_weights()\n",
        "  df['volatility_Weight'] = 0\n",
        "\n",
        "  for x in range(len(cleaned_weights)):\n",
        "    df.loc[x,'volatility_Weight'] = cleaned_weights[x]\n",
        "\n",
        "  df.sort_values(by='volatility_Weight', inplace=True, ascending=False)\n",
        "  df.reset_index(inplace=True, drop=True)\n",
        "\n",
        "  df['Weight'] = 0\n",
        "  ports = []\n",
        "  for x in range(len(df)):\n",
        "    if x < X:\n",
        "      df.loc[x,'Weight'] = 1\n",
        "      ports += [df.loc[x,'Port']]\n",
        "    else:\n",
        "      break\n",
        "  print(\"minVolatility portfolios:\", sorted(ports))     \n",
        "  df.sort_values(by='Port', inplace=True, ascending=True)\n",
        "  df.reset_index(inplace=True, drop=True)\n",
        "  df.drop(columns='volatility_Weight', axis=1, inplace=True)\n",
        "  # df.head(X+2)\n",
        "  # df.to_csv(\"minVolatility.csv\")\n",
        "  return df\n",
        "\n"
      ],
      "execution_count": 64,
      "outputs": []
    },
    {
      "cell_type": "code",
      "metadata": {
        "id": "sODDcUteV74k"
      },
      "source": [
        "def maxSharpRatio(dfView, covM, X):\n",
        "  # get weights maximizing the Sharpe ratio\n",
        "  df = dfView.copy()\n",
        "  ef = EfficientFrontier(df.Mean, covM)\n",
        "  weights = ef.max_sharpe()\n",
        "  cleaned_weights = ef.clean_weights()\n",
        "  df['sharpe_Weight'] = 0\n",
        "\n",
        "  for x in range(len(cleaned_weights)):\n",
        "    df.loc[x,'sharpe_Weight'] = cleaned_weights[x]\n",
        "\n",
        "  df.sort_values(by='sharpe_Weight', inplace=True, ascending=False)\n",
        "  df.reset_index(inplace=True, drop=True)\n",
        "\n",
        "  df['Weight'] = 0\n",
        "  ports = []\n",
        "  for x in range(len(df)):\n",
        "    if x < X:\n",
        "      df.loc[x,'Weight'] = 1\n",
        "      ports += [df.loc[x,'Port']]\n",
        "    else:\n",
        "      break\n",
        "  print(\"maxSharpRatio portfolios:\", sorted(ports))     \n",
        "  df.sort_values(by='Port', inplace=True, ascending=True)\n",
        "  df.reset_index(inplace=True, drop=True)\n",
        "  df.drop(columns='sharpe_Weight', axis=1, inplace=True)\n",
        "  # df.head(X+2)\n",
        "  # df.to_csv(\"maxSharpRatio.csv\")\n",
        "  return df\n",
        "\n"
      ],
      "execution_count": 65,
      "outputs": []
    },
    {
      "cell_type": "code",
      "metadata": {
        "colab": {
          "base_uri": "https://localhost:8080/"
        },
        "id": "itoac7bniAS8",
        "outputId": "608c2239-14d2-43e6-a316-c6df76522c16"
      },
      "source": [
        "if command == 'maxMean':\n",
        "  maxMean(data, portfolios).to_csv(\"maxMean.csv\", index=False)\n",
        "elif command == 'minVolatility':\n",
        "  minVolatility(data, covMat, portfolios).to_csv(\"minVolatility.csv\", index=False)\n",
        "elif command == 'maxSharpRatio':\n",
        "  maxSharpRatio(data, covMat, portfolios).to_csv(\"maxSharpRatio.csv\", index=False)\n",
        "elif command == 'all':\n",
        "  dfM = maxMean(data, portfolios)\n",
        "  dfV = minVolatility(data, covMat, portfolios)\n",
        "  dfS = maxSharpRatio(data, covMat, portfolios)\n",
        "  data['sharpe_Weight'] = dfS['Weight']\n",
        "  data['volatility_Weight'] = dfV['Weight']\n",
        "  data['maxMean_Weight'] = dfM['Weight']\n",
        "  data.to_csv('All.csv', index=False)\n",
        "else:\n",
        "  print ('Invalid command.')"
      ],
      "execution_count": 66,
      "outputs": [
        {
          "output_type": "stream",
          "text": [
            "maxMean portfolios: [6, 11, 24, 33, 39, 46, 50, 61, 87, 186]\n",
            "minVolatility portfolios: [25, 27, 55, 81, 120, 133, 146, 169, 172, 188]\n",
            "maxSharpRatio portfolios: [22, 25, 27, 55, 81, 120, 133, 169, 172, 188]\n"
          ],
          "name": "stdout"
        }
      ]
    },
    {
      "cell_type": "code",
      "metadata": {
        "id": "8miEYZdnk7CK"
      },
      "source": [
        ""
      ],
      "execution_count": 37,
      "outputs": []
    }
  ]
}